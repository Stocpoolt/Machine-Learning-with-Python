{
 "cells": [
  {
   "cell_type": "code",
   "execution_count": null,
   "metadata": {},
   "outputs": [],
   "source": [
    "# %pip install textblob\n",
    "# %pip install pandas_datareader\n",
    "# %pip install googletrans\n",
    "# %pip install PIL\n",
    "# %pip install wordcloud\n",
    "# %pip install datetime\n",
    "# %pip install  plotly\n",
    "# %pip install pip install google_trans_new"
   ]
  },
  {
   "cell_type": "code",
   "execution_count": null,
   "metadata": {},
   "outputs": [],
   "source": [
    "%config Completer.use_jedi = False\n",
    "\n",
    "import pandas as pd\n",
    "import numpy as np\n",
    "import pandas_datareader.data as web\n",
    "import datetime as dt\n",
    "from textblob import TextBlob\n",
    "from google_trans_new import google_translator\n",
    "\n",
    "import plotly\n",
    "import plotly.graph_objects as go\n",
    "import plotly.express as px\n",
    "import plotly.express as px\n",
    "from plotly.subplots import make_subplots\n",
    "\n",
    "import matplotlib.pyplot as plt\n",
    "import seaborn as sns\n",
    "import matplotlib.pyplot as plt\n",
    "from PIL import Image\n",
    "from wordcloud import WordCloud, STOPWORDS, ImageColorGenerator\n",
    "from ipywidgets import interact,fixed\n",
    "\n",
    "from sklearn.svm import SVC\n",
    "from statsmodels.tsa.stattools import adfuller\n",
    "from sklearn.preprocessing import MinMaxScaler"
   ]
  },
  {
   "cell_type": "markdown",
   "metadata": {},
   "source": [
    "# Importando datos desde Yahoo Finance"
   ]
  },
  {
   "cell_type": "code",
   "execution_count": null,
   "metadata": {},
   "outputs": [],
   "source": [
    "# Extrayendo información financiera de Yahoo! Finance\n",
    "inicio = '2019-01-01'\n",
    "fin = '2021-02-17'\n",
    "\n",
    "msft = web.DataReader(\"MSFT\", 'yahoo',inicio, fin)  # información de Microsoft\n",
    "aapl = web.DataReader(\"AAPL\", 'yahoo', inicio, fin)  # información de Apple\n",
    "spy = web.DataReader('SPY','yahoo',  inicio,fin)"
   ]
  },
  {
   "cell_type": "code",
   "execution_count": null,
   "metadata": {},
   "outputs": [],
   "source": [
    "msft.head(3)"
   ]
  },
  {
   "cell_type": "code",
   "execution_count": null,
   "metadata": {},
   "outputs": [],
   "source": [
    "aapl.head(3)"
   ]
  },
  {
   "cell_type": "markdown",
   "metadata": {},
   "source": [
    "***\n",
    "___"
   ]
  },
  {
   "cell_type": "code",
   "execution_count": null,
   "metadata": {},
   "outputs": [],
   "source": [
    "#Nos permite importar un diccionario de acciones\n",
    "\n",
    "dic = {\n",
    "    'msft' : msft['Close'],\n",
    "    'aapl' : aapl['Close'],\n",
    "    'spy'  : spy['Close']\n",
    "}\n",
    "data = pd.DataFrame(dic)\n",
    "# data"
   ]
  },
  {
   "cell_type": "code",
   "execution_count": null,
   "metadata": {},
   "outputs": [],
   "source": [
    "data.plot()"
   ]
  },
  {
   "cell_type": "markdown",
   "metadata": {},
   "source": [
    "***\n",
    "___"
   ]
  },
  {
   "cell_type": "markdown",
   "metadata": {},
   "source": [
    "# Análisis de los Retornos\n",
    "\n",
    "para valores pequeños:"
   ]
  },
  {
   "cell_type": "markdown",
   "metadata": {},
   "source": [
    "<h1>$$log(\\frac{x_{t}}{x_{t-1}}) \\approx \\frac{x_{t}}{x_{t-1}}-1$$"
   ]
  },
  {
   "cell_type": "code",
   "execution_count": null,
   "metadata": {},
   "outputs": [],
   "source": [
    "np.log(data['msft']/data['msft'].shift(1))"
   ]
  },
  {
   "cell_type": "code",
   "execution_count": null,
   "metadata": {},
   "outputs": [],
   "source": [
    "(data['msft']/data['msft'].shift(1))-1"
   ]
  },
  {
   "cell_type": "markdown",
   "metadata": {},
   "source": [
    "## ¿Pero entonces por que usar una o la otra?"
   ]
  },
  {
   "cell_type": "markdown",
   "metadata": {},
   "source": [
    "> https://www.clasesdebolsa.com/index.php?/archives/229-La-paradoja-de-las-variaciones-porcentuales..html"
   ]
  },
  {
   "cell_type": "markdown",
   "metadata": {},
   "source": [
    "Suponga que el precio de una acción baja de 20 a 10, tendríamos una pérdida de -50%:"
   ]
  },
  {
   "cell_type": "code",
   "execution_count": null,
   "metadata": {},
   "outputs": [],
   "source": [
    "(10/20)-1"
   ]
  },
  {
   "cell_type": "markdown",
   "metadata": {},
   "source": [
    "¿Para recuperar nuestra inversión tendría que subir 50%, no?"
   ]
  },
  {
   "cell_type": "code",
   "execution_count": null,
   "metadata": {},
   "outputs": [],
   "source": [
    "10*(1+.50)"
   ]
  },
  {
   "cell_type": "markdown",
   "metadata": {},
   "source": [
    "No, de hecho, para recuperar nuestra inversión el precio debería subir un 100% y no un 50% "
   ]
  },
  {
   "cell_type": "code",
   "execution_count": null,
   "metadata": {},
   "outputs": [],
   "source": [
    "(20/10)-1"
   ]
  },
  {
   "cell_type": "markdown",
   "metadata": {},
   "source": [
    "Sin embargo, en escala logarítima vemos que la magnitud en el movimiento de pérdida y recuperación es el mismo"
   ]
  },
  {
   "cell_type": "code",
   "execution_count": null,
   "metadata": {},
   "outputs": [],
   "source": [
    "np.log(10/20)"
   ]
  },
  {
   "cell_type": "code",
   "execution_count": null,
   "metadata": {},
   "outputs": [],
   "source": [
    "np.log(20/10)"
   ]
  },
  {
   "cell_type": "markdown",
   "metadata": {},
   "source": [
    "***\n",
    "___"
   ]
  },
  {
   "cell_type": "markdown",
   "metadata": {},
   "source": [
    "# Análisis de Volatilidades históricas"
   ]
  },
  {
   "cell_type": "markdown",
   "metadata": {},
   "source": [
    "### La volatilidad\n",
    "Es la desviación estándar del logaritmo natural de los rendimientos, es decir, \"la tasa de variación de los rendimientos históricos\", también se conoce como volatilidad histórica móvil"
   ]
  },
  {
   "cell_type": "code",
   "execution_count": null,
   "metadata": {},
   "outputs": [],
   "source": [
    "def df(rezagos):\n",
    "    dic = {\n",
    "        'msft' : msft['Close'],\n",
    "        'aapl' : aapl['Close'],\n",
    "        'spy'  : spy['Close']\n",
    "    }\n",
    "    data = pd.DataFrame(dic)\n",
    "    retornos = np.log(data/data.shift(1))\n",
    "    retornos.columns = ['{}_retorno'.format(i) for i in data]\n",
    "\n",
    "    volatilidad = data.rolling(rezagos).std() #252 son los días bursátiles en el nasdaq\n",
    "    volatilidad.columns = ['{}_volatilidad'.format(i) for i in data]\n",
    "\n",
    "    data = pd.concat([data,retornos,volatilidad], axis = 1)\n",
    "    \n",
    "    fig = make_subplots(rows=1,cols=2, shared_xaxes=True,shared_yaxes=False, subplot_titles=['Precio','Volatilidad'],\n",
    "                   )\n",
    "\n",
    "    fig.add_scatter(x=data.index,y=data['msft'], name='Precio MSFT', row=1,col=1)\n",
    "    fig.add_scatter(x=data.index,y=data['msft_volatilidad'], name='Volatilidad MSFT', row=1,col=2)\n",
    "    \n",
    "    \n",
    "    return fig.show()\n",
    "    "
   ]
  },
  {
   "cell_type": "code",
   "execution_count": null,
   "metadata": {},
   "outputs": [],
   "source": [
    "interact(df, rezagos=[242,20,2])"
   ]
  },
  {
   "cell_type": "code",
   "execution_count": null,
   "metadata": {},
   "outputs": [],
   "source": [
    "def df2(rezagos):\n",
    "    dic = {\n",
    "        'msft' : msft['Close'],\n",
    "        'aapl' : aapl['Close'],\n",
    "        'spy'  : spy['Close']\n",
    "    }\n",
    "    data = pd.DataFrame(dic)\n",
    "    retornos = np.log(data/data.shift(1))\n",
    "    retornos.columns = ['{}_retorno'.format(i) for i in data]\n",
    "\n",
    "    volatilidad = data.rolling(rezagos).std() #252 son los días bursátiles en el nasdaq\n",
    "    volatilidad.columns = ['{}_volatilidad'.format(i) for i in data]\n",
    "\n",
    "    data = pd.concat([data,retornos,volatilidad], axis = 1)\n",
    "    \n",
    "    \n",
    "    data1 = data.copy()\n",
    "\n",
    "    minmax = MinMaxScaler()\n",
    "    minmax = minmax.fit(data)\n",
    "    data1 = minmax.fit_transform(data)\n",
    "    data1 = pd.DataFrame(data1,columns=data.columns)\n",
    "    \n",
    "    fig = go.Figure()\n",
    "\n",
    "    fig.add_scatter(x=data.index,y=data1['msft'], name = 'Precio')\n",
    "    fig.add_scatter(x=data.index,y=data1['msft_volatilidad'], name = 'Volatilidad')\n",
    "    \n",
    "    return fig.show()"
   ]
  },
  {
   "cell_type": "code",
   "execution_count": null,
   "metadata": {},
   "outputs": [],
   "source": [
    "interact(df2, rezagos =[252,20,2])"
   ]
  },
  {
   "cell_type": "markdown",
   "metadata": {},
   "source": [
    "***\n",
    "___"
   ]
  },
  {
   "cell_type": "markdown",
   "metadata": {},
   "source": [
    "# Series de Tiempo Financieras"
   ]
  },
  {
   "cell_type": "markdown",
   "metadata": {},
   "source": [
    "Wes McKinney, el principal\n",
    "autor de pandas, comenzó a desarrollar la biblioteca cuando trabajaba como analista en AQR"
   ]
  },
  {
   "cell_type": "code",
   "execution_count": null,
   "metadata": {},
   "outputs": [],
   "source": [
    "fechas = pd.date_range('2021-01-01',periods=12,freq='B')\n",
    "fechas "
   ]
  },
  {
   "attachments": {
    "image.png": {
     "image/png": "[encoded data removed]"
    }
   },
   "cell_type": "markdown",
   "metadata": {},
   "source": [
    "![image.png](attachment:image.png)"
   ]
  },
  {
   "cell_type": "markdown",
   "metadata": {},
   "source": [
    "***\n",
    "___"
   ]
  },
  {
   "cell_type": "markdown",
   "metadata": {},
   "source": [
    "# Media Móvil"
   ]
  },
  {
   "cell_type": "code",
   "execution_count": null,
   "metadata": {},
   "outputs": [],
   "source": [
    "def mma(periodos):\n",
    "    fig = go.Figure()\n",
    "\n",
    "    fig.add_scatter(x=data.index,y=data1['msft'], name = 'Precio')\n",
    "    fig.add_scatter(x=data.index,y=data1['msft'].rolling(periodos).mean(), \n",
    "                    name = 'media movil de {} periodos'.format(periodos))\n",
    "    fig.add_scatter(x=data.index,y=data1['msft_retorno'].rolling(periodos).std(), \n",
    "                    name = 'Volatilidad móvil de {} periodos'.format(periodos))\n",
    "    \n",
    "    return fig.show()"
   ]
  },
  {
   "cell_type": "code",
   "execution_count": null,
   "metadata": {},
   "outputs": [],
   "source": [
    "interact(mma,periodos=[8,20,100,200])"
   ]
  },
  {
   "cell_type": "markdown",
   "metadata": {},
   "source": [
    "***\n",
    "___"
   ]
  },
  {
   "cell_type": "code",
   "execution_count": null,
   "metadata": {},
   "outputs": [],
   "source": [
    "dic = {\n",
    "        'msft' : msft['Close'],\n",
    "        'aapl' : aapl['Close'],\n",
    "        'spy'  : spy['Close']\n",
    "    }\n",
    "data = pd.DataFrame(dic)\n",
    "retornos = np.log(data/data.shift(1))\n",
    "retornos.columns = ['{}_retorno'.format(i) for i in data]\n",
    "\n",
    "volatilidad = data.rolling(252).std() #252 son los días bursátiles en el nasdaq\n",
    "volatilidad.columns = ['{}_volatilidad'.format(i) for i in data]\n",
    "\n",
    "data = pd.concat([data,retornos,volatilidad], axis = 1)"
   ]
  },
  {
   "cell_type": "markdown",
   "metadata": {},
   "source": [
    "# Valor futuro\n",
    "\n",
    "Suponga que tiene un capital de 100 millones y desea invertir en microsoft, durante un año"
   ]
  },
  {
   "cell_type": "markdown",
   "metadata": {},
   "source": [
    "<h1> $$VF = VP(1+i_{n})^{n}$$"
   ]
  },
  {
   "cell_type": "code",
   "execution_count": null,
   "metadata": {},
   "outputs": [],
   "source": [
    "vp = 100000000\n",
    "r = data['msft_retorno'].resample('Y').mean().loc['2020'][0]"
   ]
  },
  {
   "cell_type": "code",
   "execution_count": null,
   "metadata": {},
   "outputs": [],
   "source": [
    "vf = lambda vp,r,n: vp*((1+r)**n)"
   ]
  },
  {
   "cell_type": "code",
   "execution_count": null,
   "metadata": {},
   "outputs": [],
   "source": [
    "vf(vp,r,1)"
   ]
  },
  {
   "cell_type": "code",
   "execution_count": null,
   "metadata": {},
   "outputs": [],
   "source": [
    "valor_futuro = np.fv(rate=r,pv=-vp,nper=1,pmt=0,when='end')\n",
    "valor_futuro"
   ]
  },
  {
   "cell_type": "markdown",
   "metadata": {},
   "source": [
    "***\n",
    "___"
   ]
  },
  {
   "cell_type": "markdown",
   "metadata": {},
   "source": [
    "# Valor presente\n",
    "suponga que quiere obtener una ganancia de 150 millones al cabo de un año invirtiendo en microsoft, ¿cuánto debe invertir a la tasa de rendimiento observada?"
   ]
  },
  {
   "cell_type": "markdown",
   "metadata": {},
   "source": [
    "<h1> $$VP = \\frac{VF}{(1+r_{n})^{n}}$$"
   ]
  },
  {
   "cell_type": "code",
   "execution_count": null,
   "metadata": {},
   "outputs": [],
   "source": [
    "vf = 150000000\n",
    "r = data['msft_retorno'].resample('Y').mean().loc['2020'][0]"
   ]
  },
  {
   "cell_type": "code",
   "execution_count": null,
   "metadata": {},
   "outputs": [],
   "source": [
    "vp = lambda vf,r,n: vf/((1+r)**n)"
   ]
  },
  {
   "cell_type": "code",
   "execution_count": null,
   "metadata": {},
   "outputs": [],
   "source": [
    "vp(vf,r,1)"
   ]
  },
  {
   "cell_type": "markdown",
   "metadata": {},
   "source": [
    "valor_presente = np.pv(r,1,pmt=0,fv=-vf,when='end')\n",
    "valor_presente"
   ]
  },
  {
   "cell_type": "markdown",
   "metadata": {},
   "source": [
    "***\n",
    "___"
   ]
  },
  {
   "cell_type": "markdown",
   "metadata": {},
   "source": [
    "# Valor presente neto\n",
    "suponga que compra un activo financiero que paga cuatro flujos de caja cada uno con valor = [10000000,20000000,10000000,75000000] durante un año, la tasa de interés del activo es de 3% EA, usted paga por el activo 100000000 ¿es una buena inversión?"
   ]
  },
  {
   "cell_type": "markdown",
   "metadata": {},
   "source": [
    "<h1> $$VPN = -I_{0} + \\sum_{t=1}^{n} \\frac{Fc_{t}}{(1+r)^{t}}$$"
   ]
  },
  {
   "cell_type": "markdown",
   "metadata": {},
   "source": [
    "dónde $I_{0}$ es la inversión inicial, $Fc_{t}$ es el flujo de caja en el momento t y $n$ es el número de periodos o pagos"
   ]
  },
  {
   "cell_type": "code",
   "execution_count": null,
   "metadata": {},
   "outputs": [],
   "source": [
    "fc =  [-100000000,10000000,20000000,10000000,75000000]\n",
    "r = 0.03"
   ]
  },
  {
   "cell_type": "code",
   "execution_count": null,
   "metadata": {},
   "outputs": [],
   "source": [
    "valor_presente_neto = np.npv(r,values=fc) \n",
    "valor_presente_neto"
   ]
  },
  {
   "cell_type": "markdown",
   "metadata": {},
   "source": [
    "***\n",
    "___"
   ]
  },
  {
   "cell_type": "markdown",
   "metadata": {},
   "source": [
    "# Tasa interna de retorno"
   ]
  },
  {
   "cell_type": "markdown",
   "metadata": {},
   "source": [
    "La tasa de interna de retorno es la tasa que hace que el vpn sea igual a 0, es decir, nos dice el porcentaje de beneficio o pérdida verdadedo en un proyecto de inversión"
   ]
  },
  {
   "cell_type": "markdown",
   "metadata": {},
   "source": [
    "<h1> $$VPN = -I_{0} + \\sum_{t=1}^{n} \\frac{Fc_{t}}{(1+TIR)^{t}} = 0$$"
   ]
  },
  {
   "cell_type": "markdown",
   "metadata": {},
   "source": [
    "Si\n",
    "\n",
    "  + TIR > r el proyecto de inversión es rentable\n",
    "  + TIR = 0 el proyecto de inversión no genera pérdidas o ganancias\n",
    "  + TIR < r el poryecto de inversión no es rentable"
   ]
  },
  {
   "cell_type": "code",
   "execution_count": null,
   "metadata": {},
   "outputs": [],
   "source": [
    "tir = np.irr(fc)\n",
    "tir"
   ]
  },
  {
   "cell_type": "code",
   "execution_count": null,
   "metadata": {},
   "outputs": [],
   "source": [
    "np.round(np.npv(tir,fc))"
   ]
  },
  {
   "cell_type": "markdown",
   "metadata": {},
   "source": [
    "****\n",
    "___"
   ]
  },
  {
   "cell_type": "markdown",
   "metadata": {},
   "source": [
    "<h1><center>Análisis de Sentimientos</center></h1>"
   ]
  },
  {
   "cell_type": "markdown",
   "metadata": {},
   "source": [
    "# TextBlob\n",
    "\n",
    "\"TextBlob es una biblioteca de Python (2 y 3) para procesar datos textuales. Proporciona una API simple para sumergirse en tareas comunes de procesamiento del lenguaje natural (PNL) como el etiquetado de parte del discurso, extracción de frases nominales, análisis de sentimientos, clasificación, traducción y más\"\n",
    "\n",
    "https://textblob.readthedocs.io/en/dev/"
   ]
  },
  {
   "cell_type": "markdown",
   "metadata": {},
   "source": [
    "### TextBlob para análisis de sentimientos\n",
    "\"El análisis de sentimiento utiliza técnicas de procesamiento de lenguaje natural (NLP) para obtener conclusiones sobre textos producidos por personas y analizar en ellos rasgos de interés asociados a emociones positivas o negativas.  Se requiere un modelo que ya haya sido entrenado con textos que nos permita obtener valores cuantificables.\"\n",
    "> https://blog.hacemoscontactos.com/2018/07/28/analisis-de-sentimientos-sobre-twitter-usando-la-libreria-textblob-de-python/"
   ]
  },
  {
   "cell_type": "markdown",
   "metadata": {},
   "source": [
    "### Métricas de Polaridad y Subjetividad\n",
    "\n",
    " + **La polaridad** es el sentimiento mismo, que va de -1 a +1. \n",
    " + **La subjetividad** es una medida del sentimiento siendo objetivo a subjetivo, y va de 0 a 1. Preferimos ver el sentimiento que es objetivo que subjetivo, así que una puntuación más baja probablemente denote una lectura más precisa.\n",
    "> https://unipython.com/analisis-de-sentimientos-con-textblob-y-vader/"
   ]
  },
  {
   "cell_type": "code",
   "execution_count": null,
   "metadata": {},
   "outputs": [],
   "source": [
    "nasdaq = pd.read_csv('nasdaq_26_05.csv') \n",
    "nasdaq.dropna(how='any',axis=0,inplace=True)\n",
    "noticias = pd.read_csv('noticias_nasdaq2.csv')\n",
    "noticias.head(3)"
   ]
  },
  {
   "cell_type": "code",
   "execution_count": null,
   "metadata": {},
   "outputs": [],
   "source": [
    "noticias.iloc[0]['Texto']"
   ]
  },
  {
   "cell_type": "markdown",
   "metadata": {},
   "source": [
    "### Visualizar Gráficamente una noticia"
   ]
  },
  {
   "cell_type": "code",
   "execution_count": null,
   "metadata": {},
   "outputs": [],
   "source": [
    "text = noticias.iloc[0]['Texto']\n",
    "wordcloud = WordCloud(background_color=\"white\").generate(text)\n",
    "plt.figure( figsize=(15,10))\n",
    "plt.imshow(wordcloud, interpolation='bilinear')\n",
    "plt.axis(\"off\")\n",
    "plt.show()"
   ]
  },
  {
   "cell_type": "markdown",
   "metadata": {},
   "source": [
    "***\n",
    "___"
   ]
  },
  {
   "cell_type": "code",
   "execution_count": null,
   "metadata": {},
   "outputs": [],
   "source": [
    "a = TextBlob(noticias.iloc[0]['Texto'])\n",
    "print(a.sentiment.polarity)\n",
    "print(a.sentiment.subjectivity)"
   ]
  },
  {
   "cell_type": "code",
   "execution_count": null,
   "metadata": {},
   "outputs": [],
   "source": [
    "b = TextBlob(\"This is horrible and it is the worst\")\n",
    "print(b.sentiment.polarity)\n",
    "print(b.sentiment.subjectivity)"
   ]
  },
  {
   "cell_type": "code",
   "execution_count": null,
   "metadata": {},
   "outputs": [],
   "source": [
    "c = TextBlob('This is awesome and it is the best')\n",
    "print(c.sentiment.polarity)\n",
    "print(c.sentiment.subjectivity)"
   ]
  },
  {
   "cell_type": "markdown",
   "metadata": {},
   "source": [
    "***\n",
    "___"
   ]
  },
  {
   "cell_type": "code",
   "execution_count": null,
   "metadata": {},
   "outputs": [],
   "source": [
    "español = TextBlob('Este es el mejor curso de la UACE')\n",
    "print(español.sentiment.polarity)\n",
    "print(español.sentiment.subjectivity)"
   ]
  },
  {
   "cell_type": "markdown",
   "metadata": {},
   "source": [
    "## Google translator en python"
   ]
  },
  {
   "cell_type": "code",
   "execution_count": null,
   "metadata": {},
   "outputs": [],
   "source": [
    "translator = google_translator()\n",
    "translate_text = translator.translate(text,'es')\n",
    "translate_text"
   ]
  },
  {
   "cell_type": "code",
   "execution_count": null,
   "metadata": {},
   "outputs": [],
   "source": [
    "wordcloud = WordCloud(background_color=\"white\",).generate(translate_text)\n",
    "plt.figure( figsize=(15,10))\n",
    "plt.imshow(wordcloud, interpolation='bilinear')\n",
    "plt.axis(\"off\")\n",
    "plt.show()"
   ]
  },
  {
   "cell_type": "markdown",
   "metadata": {},
   "source": [
    "***\n",
    "___"
   ]
  },
  {
   "cell_type": "markdown",
   "metadata": {},
   "source": [
    "### ¿Podemos realizar algún análisis cuantitativo?"
   ]
  },
  {
   "cell_type": "code",
   "execution_count": null,
   "metadata": {},
   "outputs": [],
   "source": [
    "noticias = pd.read_csv('noticias_nasdaq2.csv')\n",
    "\n",
    "Polarity = []\n",
    "Score = []\n",
    "for i in noticias['Texto']:\n",
    "    sentA = TextBlob(str(i))\n",
    "    Polarity.append(sentA.sentiment.polarity)\n",
    "    if sentA.sentiment.polarity >= 0.05:\n",
    "        score = 'positiva'\n",
    "    elif -0.05 < sentA.sentiment.polarity < 0.05:\n",
    "        score = 'neutral'\n",
    "    else:\n",
    "        score = 'negativo'\n",
    "    Score.append(score)\n",
    "noticias['Polarity'] = Polarity\n",
    "noticias['Score'] = Score\n",
    "\n",
    "noticias.dropna(inplace=True)"
   ]
  },
  {
   "cell_type": "code",
   "execution_count": null,
   "metadata": {},
   "outputs": [],
   "source": [
    "df = pd.concat([noticias['Polarity'],nasdaq],axis=1)\n",
    "df.drop('Date',axis=1,inplace=True)"
   ]
  },
  {
   "cell_type": "code",
   "execution_count": null,
   "metadata": {},
   "outputs": [],
   "source": [
    "minmax = MinMaxScaler()\n",
    "minmax = minmax.fit(df)\n",
    "df = minmax.fit_transform(df)"
   ]
  },
  {
   "cell_type": "code",
   "execution_count": null,
   "metadata": {},
   "outputs": [],
   "source": [
    "fig = plt.figure()\n",
    "plt.plot(df)\n",
    "plt.legend(['Polarity','Nasdaq Price'])\n",
    "plt.xlabel('Hora')\n",
    "plt.xticks([])\n",
    "plt.title('Noticias del 26 de mayo de 2020')\n",
    "plt.show()"
   ]
  },
  {
   "cell_type": "markdown",
   "metadata": {},
   "source": [
    "***\n",
    "___"
   ]
  },
  {
   "cell_type": "markdown",
   "metadata": {},
   "source": [
    "<h1><center>Machine Learning  </center></h1>"
   ]
  },
  {
   "cell_type": "code",
   "execution_count": null,
   "metadata": {},
   "outputs": [],
   "source": [
    "aapl['Retorno'] = np.log(aapl['Close']/aapl['Close'].shift(1))"
   ]
  },
  {
   "cell_type": "markdown",
   "metadata": {},
   "source": [
    "# El problema de la raiz unitaria"
   ]
  },
  {
   "cell_type": "markdown",
   "metadata": {},
   "source": [
    "Prueba de aumentada de Dickey-Fuller para comprobar si existe una raiz unitaria en un porceso AR(1) y concluir si existe correlación serial.\n",
    "\n",
    "La hipótesis nula de la prueba es que la serie de tiempo puede ser representada por una raíz unitaria, que no es estacionaria (tiene alguna estructura dependiente del tiempo). La hipótesis alternativa (rechazando la hipótesis nula) es que la serie temporal es estacionaria.\n",
    "\n",
    " + Hipótesis nula (H0) : si no se puede rechazar, sugiere que la serie temporal tiene una raíz unitaria, lo que significa que no es estacionaria. Tiene alguna estructura dependiente del tiempo.\n",
    " + Hipótesis alternativa (H1) : se rechaza la hipótesis nula; sugiere que la serie temporal no tiene una raíz unitaria, lo que significa que es estacionaria. No tiene una estructura dependiente del tiempo.\n",
    " \n",
    "> https://machinelearningmastery.com/time-series-data-stationary-python/"
   ]
  },
  {
   "cell_type": "code",
   "execution_count": null,
   "metadata": {},
   "outputs": [],
   "source": [
    "resultado = adfuller(aapl['Close'])\n",
    "print('ADF Statistic: %f' % resultado[0])\n",
    "print('p-value: %f' % resultado[1])\n",
    "print('Critical Values:')\n",
    "for key, value in resultado[4].items():\n",
    "    print('\\t%s: %.3f' % (key, value))"
   ]
  },
  {
   "cell_type": "markdown",
   "metadata": {},
   "source": [
    "con:\n",
    "\n",
    " + p-value > 0.05 : No se puede rechazar la hipótesis nula (H0), los datos tienen una raíz unitaria y no son estacionarios.\n",
    " + p-value <= 0.05 : Rechaza la hipótesis nula (H0), los datos no tienen una raíz unitaria y son estacionarios."
   ]
  },
  {
   "cell_type": "code",
   "execution_count": null,
   "metadata": {},
   "outputs": [],
   "source": [
    "aapl['Close'].plot()"
   ]
  },
  {
   "cell_type": "code",
   "execution_count": null,
   "metadata": {},
   "outputs": [],
   "source": [
    "aapl['Retorno'].plot(kind='hist')"
   ]
  },
  {
   "cell_type": "markdown",
   "metadata": {},
   "source": [
    "# Preparar los Rezagos de las Acciones"
   ]
  },
  {
   "cell_type": "markdown",
   "metadata": {},
   "source": [
    "Para crear predicciones para las series de tiempo financieras analizadas, trabajamos con cinco rezagos. La idea básica de los valores históricos (retorno) de los cinco días anteriores se utilizan para predecir el valor hoy. considere el siguiente conjunto de datos simple."
   ]
  },
  {
   "cell_type": "code",
   "execution_count": null,
   "metadata": {},
   "outputs": [],
   "source": [
    "n = 15\n",
    "df = pd.DataFrame(np.arange(n),index=pd.date_range('2020-05-22', periods=n, freq = 'T'),\n",
    "                 columns=['data'])\n",
    "# df"
   ]
  },
  {
   "cell_type": "code",
   "execution_count": null,
   "metadata": {},
   "outputs": [],
   "source": [
    "lags = 5\n",
    "for lag in range(1,lags+1):\n",
    "    df['lag_{}'.format(lag)] = df['data'].shift(lag)\n",
    "df"
   ]
  },
  {
   "cell_type": "code",
   "execution_count": null,
   "metadata": {},
   "outputs": [],
   "source": [
    "df.dropna(inplace=True)\n",
    "\n",
    "df.astype(int)"
   ]
  },
  {
   "cell_type": "markdown",
   "metadata": {},
   "source": [
    "***\n",
    "___"
   ]
  },
  {
   "cell_type": "markdown",
   "metadata": {},
   "source": [
    "# Agregar los rezagos"
   ]
  },
  {
   "cell_type": "code",
   "execution_count": null,
   "metadata": {},
   "outputs": [],
   "source": [
    "def add_lags(data,instrument,lags):\n",
    "    cols = []\n",
    "    df = pd.DataFrame(returns[instrument])\n",
    "    for lag in range(1, lags +1):\n",
    "        col = 'lag_{}'.format(lag)\n",
    "        \n",
    "        df[col] = df[instrument].shift(lag)\n",
    "        cols.append(col)\n",
    "    df.dropna(inplace = True)\n",
    "    return(df,cols)   "
   ]
  },
  {
   "cell_type": "code",
   "execution_count": null,
   "metadata": {},
   "outputs": [],
   "source": [
    "def add_lags(data,retorno,lags):\n",
    "    cols = []\n",
    "    df = pd.DataFrame(data[retorno])\n",
    "    for lag in range(1,lags+1):\n",
    "        df['lag_{}'.format(lag)] = df[retorno].shift(lag)\n",
    "    df.dropna(inplace=True)\n",
    "    return(df)"
   ]
  },
  {
   "cell_type": "code",
   "execution_count": null,
   "metadata": {},
   "outputs": [],
   "source": [
    "add_lags(aapl,'Retorno',5)"
   ]
  },
  {
   "cell_type": "markdown",
   "metadata": {},
   "source": [
    "***\n",
    "___"
   ]
  },
  {
   "cell_type": "markdown",
   "metadata": {},
   "source": [
    "## np.sign() \n",
    "devuelve el signo de (la dirección) del campo, elemento y observación determinado"
   ]
  },
  {
   "cell_type": "code",
   "execution_count": null,
   "metadata": {},
   "outputs": [],
   "source": [
    "# aapl['Retorno']\n",
    "np.sign(aapl['Retorno'])"
   ]
  },
  {
   "cell_type": "code",
   "execution_count": null,
   "metadata": {},
   "outputs": [],
   "source": [
    "# Cantidad de patrones analizados:\n",
    "lags**2"
   ]
  },
  {
   "cell_type": "markdown",
   "metadata": {},
   "source": [
    "## Implementar una máquina soportada en vectores, o máquinas de soporte vectorial\n",
    "SVM"
   ]
  },
  {
   "cell_type": "markdown",
   "metadata": {},
   "source": [
    "La matriz que consta de las columnas de datos rezagadas se usa para predecir la dirección de movimiento del día siguiente del instrumento a través del algoritmo (SVM). Este es un algoritmo de clasificación que puede aprender de patrones históricos (5 rezagos) y predecir si un movimiento hacia arriba es más probable que un movimiento hacia abajo.\n",
    "\n",
    "> https://www.ibm.com/support/knowledgecenter/es/SS3RA7_sub/modeler_mainhelp_client_ddita/clementine/svm_perfimp.html"
   ]
  },
  {
   "cell_type": "code",
   "execution_count": null,
   "metadata": {},
   "outputs": [],
   "source": [
    "dfs = add_lags(aapl,'Retorno',5)\n",
    "\n",
    "y = np.sign(dfs['Retorno'])\n",
    "X = np.sign(dfs[['lag_1','lag_2','lag_3','lag_4','lag_5']])\n",
    "\n",
    "model = SVC(C=10).fit(X,y)\n",
    "\n",
    "dfs['Posición'] = model.predict(X)\n",
    "# dfs"
   ]
  },
  {
   "cell_type": "markdown",
   "metadata": {},
   "source": [
    "# Backtesting Vectorizado"
   ]
  },
  {
   "cell_type": "code",
   "execution_count": null,
   "metadata": {},
   "outputs": [],
   "source": [
    "dfs['Estrategia'] = dfs['Retorno'] * dfs['Posición']"
   ]
  },
  {
   "cell_type": "markdown",
   "metadata": {},
   "source": [
    "# Rendimiento acumulado (no ln)"
   ]
  },
  {
   "cell_type": "code",
   "execution_count": null,
   "metadata": {},
   "outputs": [],
   "source": [
    "df[['AAPL.O','Estrategia']].cumsum().apply(np.exp).iplot()"
   ]
  },
  {
   "cell_type": "code",
   "execution_count": null,
   "metadata": {},
   "outputs": [],
   "source": [
    "fig = plt.figure(figsize=(10,7))\n",
    "plt.plot(dfs['Retorno'].cumsum().apply(np.exp))\n",
    "plt.plot(dfs['Estrategia'].cumsum().apply(np.exp))\n",
    "plt.legend(['Retorno Verdadero','Estrategia'])\n",
    "plt.show()"
   ]
  }
 ],
 "metadata": {
  "kernelspec": {
   "display_name": "machinelearning",
   "language": "python",
   "name": "machinelearning"
  },
  "language_info": {
   "codemirror_mode": {
    "name": "ipython",
    "version": 3
   },
   "file_extension": ".py",
   "mimetype": "text/x-python",
   "name": "python",
   "nbconvert_exporter": "python",
   "pygments_lexer": "ipython3",
   "version": "3.7.9"
  }
 },
 "nbformat": 4,
 "nbformat_minor": 4
}
